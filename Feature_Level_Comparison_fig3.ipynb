{
 "cells": [
  {
   "cell_type": "code",
   "execution_count": 1,
   "id": "f5b1528d-8820-41bd-a56e-663bd590ee1c",
   "metadata": {},
   "outputs": [],
   "source": [
    "import pandas as pd\n",
    "import numpy as np\n",
    "from pybedtools import BedTool\n",
    "from math import sqrt\n",
    "\n",
    "from ProjectTools import OpenBeds"
   ]
  },
  {
   "cell_type": "code",
   "execution_count": 2,
   "id": "36052498",
   "metadata": {},
   "outputs": [],
   "source": [
    "dry = True\n",
    "\n",
    "def filter_on_depth(df):\n",
    "    average = df[\"readCount\"].mean()\n",
    "    df = df[df[\"readCount\"].ge(10)]\n",
    "    df = df[df[\"readCount\"].le(average + 3*sqrt(average))]\n",
    "    return df\n",
    "\n",
    "if dry == True:\n",
    "    wgbs_bed_path = './test_data/ENCSR893RHD_modifications_mm39_sub.bed'\n",
    "    nano_5mc_bed_path = './test_data/prom_R10.4.1_E8.2_WGS_brain_DH_5mC_nonAggregated_sub.bedMethyl'\n",
    "    tab_bed_path = './test_data/CRR008807_TAB_merged.bedGraph.gz.bismark.zero.cov_sub.bed'\n",
    "    nano_5hmC_bed_path = './test_data/prom_R10.4.1_E8.2_WGS_brain_5hmC_sub.bed'\n",
    "    \n",
    "    wgbs_df = filter_on_depth(OpenBeds.get_wgbs(wgbs_bed_path))\n",
    "    nano_mc_df = filter_on_depth(OpenBeds.get_nanopore_5mc(nano_5mc_bed_path))\n",
    "\n",
    "    tab_df = filter_on_depth(OpenBeds.get_tab(tab_bed_path))\n",
    "    nano_hmc_df = filter_on_depth(OpenBeds.get_nanopore_5hmc(nano_5hmC_bed_path))\n",
    "\n",
    "else:\n",
    "    wgbs_bed_path = './data/ENCSR893RHD_modifications_mm39.bed'\n",
    "    nano_5mc_bed_path = './data/prom_R10.4.1_E8.2_WGS_brain_DH_5mC_nonAggregated.bedMethyl'\n",
    "    tab_bed_path = './data/CRR008807_TAB_merged.bedGraph.gz.bismark.zero.cov'\n",
    "    nano_5hmC_bed_path = './data/prom_R10.4.1_E8.2_WGS_brain_5hmC.bed'\n",
    "\n",
    "    wgbs_df = filter_on_depth(OpenBeds.get_wgbs(wgbs_bed_path))\n",
    "    nano_mc_df = filter_on_depth(OpenBeds.get_nanopore_5mc(nano_5mc_bed_path))\n",
    "    tab_df = filter_on_depth(OpenBeds.get_tab(tab_bed_path))\n",
    "    nano_hmc_df = filter_on_depth(OpenBeds.get_nanopore_5hmc(nano_5hmC_bed_path))\n",
    "\n"
   ]
  },
  {
   "cell_type": "code",
   "execution_count": 10,
   "id": "d42ac8c2",
   "metadata": {},
   "outputs": [],
   "source": [
    "from pybedtools import BedTool\n",
    "\n",
    "ref_features = BedTool('./feature_references/mm39_all_features.bed')\n",
    "\n",
    "mc_bed = BedTool.from_dataframe(pd.concat([nano_mc_df, wgbs_df]))\n",
    "hmc_bed = BedTool.from_dataframe(pd.concat([tab_df, nano_hmc_df]))\n",
    "ref_features = BedTool('./feature_references/mm39_all_features.bed')\n",
    "\n",
    "def define_intergenic(mod_bed):\n",
    "    df_of_non_intersects = BedTool.intersect(mod_bed, ref_features, v=True).to_dataframe(\n",
    "        names=[\"chromosome\", \"chromStart\", \"chromEnd\", \"modification_type\", \"readCount\", \"percentMeth\", \"method\", \"feature\"])\n",
    "    df_of_non_intersects[\"feature\"] = \"Intergenic\"\n",
    "    return df_of_non_intersects\n",
    "\n",
    "def find_all_intersects(mod_bed):\n",
    "    features_df = BedTool.intersect(mod_bed, ref_features, wb=True).to_dataframe(\n",
    "        names=[\"chromosome\", \"chromStart\", \"chromEnd\", \"modification_type\", \"readCount\", \"percentMeth\", \"method\", \"dup1\", \"dup2\", \"dup3\", \"feature\"])\n",
    "    intergenic_df = define_intergenic(mod_bed)\n",
    "\n",
    "    return pd.concat([features_df, intergenic_df]).drop(columns=[\"dup1\", \"dup2\", \"dup3\"])"
   ]
  },
  {
   "cell_type": "code",
   "execution_count": 15,
   "id": "b6fe4cf3",
   "metadata": {},
   "outputs": [],
   "source": [
    "mc_intersects = find_all_intersects(mc_bed)\n",
    "hmc_intersects = find_all_intersects(hmc_bed)"
   ]
  }
 ],
 "metadata": {
  "kernelspec": {
   "display_name": "NanoporeEvaluationVenv",
   "language": "python",
   "name": "python3"
  },
  "language_info": {
   "codemirror_mode": {
    "name": "ipython",
    "version": 3
   },
   "file_extension": ".py",
   "mimetype": "text/x-python",
   "name": "python",
   "nbconvert_exporter": "python",
   "pygments_lexer": "ipython3",
   "version": "3.10.9"
  },
  "vscode": {
   "interpreter": {
    "hash": "2d54bc50d35084a8743fffaab969639acf045a1f80dce231521da74dd785dd92"
   }
  }
 },
 "nbformat": 4,
 "nbformat_minor": 5
}

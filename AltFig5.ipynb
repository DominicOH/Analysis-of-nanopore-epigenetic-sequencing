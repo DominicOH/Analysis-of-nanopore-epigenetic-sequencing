{
 "cells": [
  {
   "attachments": {},
   "cell_type": "markdown",
   "metadata": {},
   "source": [
    "# Figure 5: Gene-level 5hmC analysis\n",
    "\n",
    "This notebook analyses 5hmC at a gene-level to identify which genes have high levels of 5hmC. To do this, the sample CpG sites are grouped by gene and gene feature. An average ratio of 5hmCpG per CpG (5hmC level) is calculated for each gene and feature, and then a genome-wide average is calculated from that. \n",
    "\n",
    "We then calculate an enrichment score for each gene and feature, which is the log2 fold-ratio of the gene/feature's 5hmC level to the genome-wide (genic) average. Sorting by score, we then compare methods using Spearman's rank correlation coefficient. \n",
    "\n",
    "Of the genes with the highest 5hmC enrichment score (filtered), we then look at whether 5hmC is accumulated within a particular feature type. The null hypothesis is that 5hmC is randomly scattered across these genes, in which case each feature will have the same mean 5hmC level. The alternative hypothesis is that 5hmC is concentrated in a given feature, in which case a single feature will have a larger 5hmC level or at least more CpG sites that contain some 5hmC. "
   ]
  },
  {
   "cell_type": "code",
   "execution_count": 56,
   "metadata": {},
   "outputs": [],
   "source": [
    "from ProjectTools import OpenBeds\n",
    "from ProjectTools.OpenBeds import filterDepth\n",
    "from pybedtools import BedTool\n",
    "\n",
    "dry = True\n",
    "\n",
    "if dry == True:\n",
    "    tab_bed_path = './test_data/CRR008807_TAB_merged.bedGraph.gz.bismark.zero.cov_sub.bed'\n",
    "    nano_3mod_path = './test_data/prom_R10.4.1_E8.2_WGS_brain_0.9.1_mods_sub.bed'\n",
    "    \n",
    "    nano_mc_df, nano_hmc_df = map(filterDepth, OpenBeds.get_nanopore_threeMod_wStrand(nano_3mod_path))\n",
    "    del nano_mc_df\n",
    "    tab_df = filterDepth(OpenBeds.get_bismark(tab_bed_path, \"5hmC\"))\n",
    "\n",
    "else:\n",
    "    tab_bed_path = './data/TAB_data/CRR008807_TAB_merged.bedGraph.gz.bismark.zero.cov'\n",
    "    nano_3mod_path = './data/prom_R10.4.1_E8.2_WGS_brain_0.9.1_mods.bed'\n",
    "\n",
    "    nano_mc_df, nano_hmc_df = map(filterDepth, OpenBeds.get_nanopore_threeMod_wStrand(nano_3mod_path))\n",
    "    del nano_mc_df\n",
    "    tab_df = filterDepth(OpenBeds.get_bismark(tab_bed_path, \"5hmC\"))\n",
    "\n",
    "names=[\"chromosome\", \"chromStart\", \"chromEnd\", \"modification_type\", \"readCount\", \"percentMeth\", \"method\", \".\", \".1\", \".2\", \"strand\"]\n",
    "tab_strands_df = BedTool.intersect(BedTool.from_dataframe(tab_df), \n",
    "                                   BedTool('./data/TAB_data/CRR008807_TAB_cytosine_report.tsv.CpG_report_strands.zero.bed'), wb=True).to_dataframe(names=names).drop(columns=[\".\", \".1\", \".2\"])\n",
    "tab_strands_df = tab_strands_df[[\"chromosome\", \"chromStart\", \"chromEnd\", \"strand\", \"modification_type\", \"readCount\", \"percentMeth\", \"method\"]]"
   ]
  },
  {
   "cell_type": "code",
   "execution_count": 31,
   "metadata": {},
   "outputs": [],
   "source": [
    "promoters_enhancers_bed = BedTool('./feature_references/fig4_features/ensembl_enhancers_promoters_modified.bed')\n",
    "\n",
    "def intersectGenes(df):\n",
    "    \"\"\"\n",
    "    Takes a mod df from OpenBeds and intersects it with genes and gene elements from the file below.\n",
    "    \"\"\"\n",
    "    df = df[[\"chromosome\", \"chromStart\", \"chromEnd\", \"readCount\", \"percentMeth\", \"strand\"]]\n",
    "    gene_bed = BedTool('./feature_references/fig5_features/refGene_nonOverlappingExonsUTRS.bed')\n",
    "    df_bed = BedTool.from_dataframe(df)\n",
    "    names=[\"chromosome\", \"chromStart\", \"chromEnd\", \"readCount\", \"percentMeth\", \"strand\", \".\", \".1\", \".2\", \"featureType\", \"geneName\", \".3\"]\n",
    "    df_with_genes = BedTool.intersect(df_bed, gene_bed, wb=True, s=True).to_dataframe(names=names).drop(columns=[\".\", \".1\", \".2\", \".3\"])\n",
    "\n",
    "    return df_with_genes\n"
   ]
  },
  {
   "cell_type": "code",
   "execution_count": 54,
   "metadata": {},
   "outputs": [],
   "source": [
    "import pandas as pd \n",
    "import numpy as np\n",
    "\n",
    "def calculateGeneMean(gene_intersect_df):\n",
    "    \"\"\"\n",
    "    Takes a gene intersect dataframe produced by intersectGenes and calculates the mean 5hmC level of each gene.\n",
    "    \"\"\"\n",
    "    return pd.DataFrame(gene_intersect_df.groupby([\"geneName\"])[\"percentMeth\"].mean()).reset_index()\n",
    "\n",
    "def calculateLog2(mean_df):\n",
    "    \"\"\"\n",
    "    Takes the mean dataframe produced by geneMean and adds a new column with the log2 fold change of the gene/feature's 5hmC level relative to the genome-wide average.\n",
    "    \"\"\"\n",
    "    average_hmc_level = mean_df[\"percentMeth\"].mean()\n",
    "    mean_df[\"log2_diffFromMean\"] = np.log2(\n",
    "        np.divide(mean_df[\"percentMeth\"], average_hmc_level)\n",
    "    )\n",
    "    mean_df = mean_df.loc[np.isfinite(mean_df[\"log2_diffFromMean\"])]\n",
    "    return mean_df\n",
    "\n",
    "def methodDataProcessingFunction(mod_df):\n",
    "    df_with_genes = intersectGenes(mod_df)\n",
    "    gene_mean_df = calculateGeneMean(df_with_genes)\n",
    "    gene_mean_log2 = calculateLog2(gene_mean_df)\n",
    "    return gene_mean_log2"
   ]
  },
  {
   "cell_type": "code",
   "execution_count": 58,
   "metadata": {},
   "outputs": [
    {
     "name": "stderr",
     "output_type": "stream",
     "text": [
      "/u/n/doh28/.conda/envs/NanoporeEvaluationVenv/lib/python3.10/site-packages/pandas/core/arraylike.py:402: RuntimeWarning: divide by zero encountered in log2\n",
      "  result = getattr(ufunc, method)(*inputs, **kwargs)\n"
     ]
    }
   ],
   "source": [
    "mean_gene_df = methodDataProcessingFunction(nano_hmc_df)"
   ]
  },
  {
   "cell_type": "code",
   "execution_count": 59,
   "metadata": {},
   "outputs": [
    {
     "data": {
      "text/html": [
       "<div>\n",
       "<style scoped>\n",
       "    .dataframe tbody tr th:only-of-type {\n",
       "        vertical-align: middle;\n",
       "    }\n",
       "\n",
       "    .dataframe tbody tr th {\n",
       "        vertical-align: top;\n",
       "    }\n",
       "\n",
       "    .dataframe thead th {\n",
       "        text-align: right;\n",
       "    }\n",
       "</style>\n",
       "<table border=\"1\" class=\"dataframe\">\n",
       "  <thead>\n",
       "    <tr style=\"text-align: right;\">\n",
       "      <th></th>\n",
       "      <th>geneName</th>\n",
       "      <th>percentMeth</th>\n",
       "      <th>log2_diffFromMean</th>\n",
       "    </tr>\n",
       "  </thead>\n",
       "  <tbody>\n",
       "    <tr>\n",
       "      <th>0</th>\n",
       "      <td>1700001G17Rik</td>\n",
       "      <td>1.605778</td>\n",
       "      <td>-2.579449</td>\n",
       "    </tr>\n",
       "    <tr>\n",
       "      <th>1</th>\n",
       "      <td>1700003I22Rik</td>\n",
       "      <td>14.178696</td>\n",
       "      <td>0.562932</td>\n",
       "    </tr>\n",
       "    <tr>\n",
       "      <th>2</th>\n",
       "      <td>1700019A02Rik</td>\n",
       "      <td>9.126667</td>\n",
       "      <td>-0.072633</td>\n",
       "    </tr>\n",
       "    <tr>\n",
       "      <th>3</th>\n",
       "      <td>1700019D03Rik</td>\n",
       "      <td>9.836933</td>\n",
       "      <td>0.035487</td>\n",
       "    </tr>\n",
       "    <tr>\n",
       "      <th>4</th>\n",
       "      <td>1700034P13Rik</td>\n",
       "      <td>4.322989</td>\n",
       "      <td>-1.150692</td>\n",
       "    </tr>\n",
       "    <tr>\n",
       "      <th>...</th>\n",
       "      <td>...</td>\n",
       "      <td>...</td>\n",
       "      <td>...</td>\n",
       "    </tr>\n",
       "    <tr>\n",
       "      <th>418</th>\n",
       "      <td>Xkr9</td>\n",
       "      <td>6.572663</td>\n",
       "      <td>-0.546243</td>\n",
       "    </tr>\n",
       "    <tr>\n",
       "      <th>419</th>\n",
       "      <td>Xrcc5</td>\n",
       "      <td>8.667786</td>\n",
       "      <td>-0.147058</td>\n",
       "    </tr>\n",
       "    <tr>\n",
       "      <th>420</th>\n",
       "      <td>Zap70</td>\n",
       "      <td>10.792568</td>\n",
       "      <td>0.169245</td>\n",
       "    </tr>\n",
       "    <tr>\n",
       "      <th>421</th>\n",
       "      <td>Zdbf2</td>\n",
       "      <td>6.127247</td>\n",
       "      <td>-0.647482</td>\n",
       "    </tr>\n",
       "    <tr>\n",
       "      <th>422</th>\n",
       "      <td>Zfp451</td>\n",
       "      <td>12.597235</td>\n",
       "      <td>0.392314</td>\n",
       "    </tr>\n",
       "  </tbody>\n",
       "</table>\n",
       "<p>418 rows × 3 columns</p>\n",
       "</div>"
      ],
      "text/plain": [
       "          geneName  percentMeth  log2_diffFromMean\n",
       "0    1700001G17Rik     1.605778          -2.579449\n",
       "1    1700003I22Rik    14.178696           0.562932\n",
       "2    1700019A02Rik     9.126667          -0.072633\n",
       "3    1700019D03Rik     9.836933           0.035487\n",
       "4    1700034P13Rik     4.322989          -1.150692\n",
       "..             ...          ...                ...\n",
       "418           Xkr9     6.572663          -0.546243\n",
       "419          Xrcc5     8.667786          -0.147058\n",
       "420          Zap70    10.792568           0.169245\n",
       "421          Zdbf2     6.127247          -0.647482\n",
       "422         Zfp451    12.597235           0.392314\n",
       "\n",
       "[418 rows x 3 columns]"
      ]
     },
     "execution_count": 59,
     "metadata": {},
     "output_type": "execute_result"
    }
   ],
   "source": [
    "mean_gene_df"
   ]
  },
  {
   "cell_type": "code",
   "execution_count": 57,
   "metadata": {},
   "outputs": [
    {
     "data": {
      "text/plain": [
       "<Axes: ylabel='log2_diffFromMean'>"
      ]
     },
     "execution_count": 57,
     "metadata": {},
     "output_type": "execute_result"
    },
    {
     "data": {
      "image/png": "[encoded data removed]",
      "text/plain": [
       "<Figure size 640x480 with 1 Axes>"
      ]
     },
     "metadata": {},
     "output_type": "display_data"
    }
   ],
   "source": [
    "import seaborn as sns\n",
    "import matplotlib.pyplot as plt\n",
    "\n",
    "fig = plt.figure()\n",
    "\n",
    "ax1 = fig.add_subplot()\n",
    "\n",
    "sns.stripplot(mean_gene_df, y=\"log2_diffFromMean\")\n"
   ]
  },
  {
   "cell_type": "code",
   "execution_count": null,
   "metadata": {},
   "outputs": [],
   "source": []
  }
 ],
 "metadata": {
  "kernelspec": {
   "display_name": "NanoporeEvaluationVenv",
   "language": "python",
   "name": "python3"
  },
  "language_info": {
   "codemirror_mode": {
    "name": "ipython",
    "version": 3
   },
   "file_extension": ".py",
   "mimetype": "text/x-python",
   "name": "python",
   "nbconvert_exporter": "python",
   "pygments_lexer": "ipython3",
   "version": "3.10.9"
  },
  "orig_nbformat": 4,
  "vscode": {
   "interpreter": {
    "hash": "2d54bc50d35084a8743fffaab969639acf045a1f80dce231521da74dd785dd92"
   }
  }
 },
 "nbformat": 4,
 "nbformat_minor": 2
}

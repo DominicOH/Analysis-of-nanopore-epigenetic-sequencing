{
 "cells": [
  {
   "cell_type": "markdown",
   "metadata": {},
   "source": [
    "### How many bidirectional CTCF positions are there in the genome? "
   ]
  },
  {
   "cell_type": "code",
   "execution_count": 1,
   "metadata": {},
   "outputs": [],
   "source": [
    "import pandas as pd\n",
    "import pyranges as pr\n",
    "\n",
    "ctcf_motifs = pr.PyRanges(pd.read_table(\"data/ctcf/MA0139.1.tsv\", \n",
    "                                        names=[\"Chromosome\", \"Start\", \"End\", \"Name\", \"Score\", \"Score1\", \"Strand\"]), int64=True) \\\n",
    "                                            .merge(strand=True, count=True)\n",
    "pos_motifs = ctcf_motifs.subset(lambda df: df.Strand == \"+\")\n",
    "rev_motifs = ctcf_motifs.subset(lambda df: df.Strand == \"-\")\n",
    "\n",
    "# shows there are a roughly equal ratio of positive to negative motifs\n",
    "len(pos_motifs)/(len(pos_motifs) + len(rev_motifs))\n",
    "\n",
    "# roughly 2.3% (n=9373)\n",
    "bidirectional = pos_motifs.intersect(rev_motifs, strandedness=False)"
   ]
  },
  {
   "cell_type": "markdown",
   "metadata": {},
   "source": [
    "### What proportion of bidirectional CTCF sites are actually bound? "
   ]
  },
  {
   "cell_type": "code",
   "execution_count": 27,
   "metadata": {},
   "outputs": [
    {
     "name": "stdout",
     "output_type": "stream",
     "text": [
      "0.14563106796116504\n"
     ]
    }
   ],
   "source": [
    "from AnalysisTools.ctcf_site_tools import ctcf_chip\n",
    "\n",
    "# About 14.6% (n=1365)\n",
    "print(len(bidirectional.intersect(ctcf_chip))/len(bidirectional))\n",
    "bidirectional_bound = ctcf_chip.intersect(bidirectional)"
   ]
  },
  {
   "cell_type": "markdown",
   "metadata": {},
   "source": [
    "### What percent of all motifs bind?"
   ]
  },
  {
   "cell_type": "code",
   "execution_count": 3,
   "metadata": {},
   "outputs": [
    {
     "name": "stdout",
     "output_type": "stream",
     "text": [
      "0.043776598259166286\n"
     ]
    }
   ],
   "source": [
    "from AnalysisTools.ctcf_site_tools import ctcf_motif\n",
    "\n",
    "# Only 4.4%\n",
    "print(len(ctcf_motif.intersect(ctcf_chip))/len(ctcf_motif))"
   ]
  },
  {
   "cell_type": "markdown",
   "metadata": {},
   "source": [
    "A higher proportion of bidirectional motifs bind CTCF than single direction motifs"
   ]
  },
  {
   "cell_type": "markdown",
   "metadata": {},
   "source": [
    "### What proportion of all bound CTCF motifs have asymmetrical CpG sites? "
   ]
  },
  {
   "cell_type": "code",
   "execution_count": 4,
   "metadata": {},
   "outputs": [
    {
     "name": "stdout",
     "output_type": "stream",
     "text": [
      "Loading data\n",
      "Found 12318787 sites in data/duplex_data/cbm3/CBM_3_rep1.sorted.bam.bed\n",
      "Found 12513589 sites in data/duplex_data/cbm2/CBM_2_rep1.masked.bed\n",
      "Found 12632176 sites in data/duplex_data/cbm2/CBM_2_rep2.masked.bed\n",
      "Found 12607984 sites in data/duplex_data/cbm3/CBM_3_rep2.sorted.bam.bed\n"
     ]
    }
   ],
   "source": [
    "from concurrent import futures\n",
    "from AnalysisTools import ctcf_site_tools as ctcf\n",
    "\n",
    "root_path = \"data/duplex_data/\"\n",
    "files = [\"cbm2/CBM_2_rep1.masked.bed\", \"cbm2/CBM_2_rep2.masked.bed\",\n",
    "         \"cbm3/CBM_3_rep1.sorted.bam.bed\", \"cbm3/CBM_3_rep2.sorted.bam.bed\"]\n",
    "\n",
    "file_paths = [root_path + file for file in files]\n",
    "\n",
    "print(\"Loading data\")\n",
    "with futures.ProcessPoolExecutor(len(file_paths)) as load_executor:\n",
    "    all_duplex_modbeds = [load_executor.submit(ctcf.read_merge, path, False, replicate+1) for replicate, path in enumerate(file_paths)]\n",
    "    all_duplex_modbeds = [modbed.result() for modbed in all_duplex_modbeds]\n",
    "    all_duplex_reads = pd.concat(modbed.pattern_df for modbed in all_duplex_modbeds)"
   ]
  },
  {
   "cell_type": "code",
   "execution_count": 17,
   "metadata": {},
   "outputs": [],
   "source": [
    "all_duplex_sites = all_duplex_reads.groupby([\"Chromosome\", \"Start\", \"End\"], observed=True)\\\n",
    "    .sum(numeric_only=True)\\\n",
    "        .drop(columns=\"Replicate\")\\\n",
    "        .query(\"readCount >= 5\")\\\n",
    "        .reset_index()\\\n",
    "        .eval(\"Asymmetrical = MH + HM + CM + MC + CH + HC\")"
   ]
  },
  {
   "cell_type": "code",
   "execution_count": 62,
   "metadata": {},
   "outputs": [],
   "source": [
    "asymmetrical_containing = pr.PyRanges(all_duplex_sites.loc[all_duplex_sites.eval(\"Asymmetrical > 0\")], int64=True)\n",
    "asymmetrical_majority = pr.PyRanges(all_duplex_sites.loc[all_duplex_sites.eval(\"Asymmetrical >= (readCount/2)\")], int64=True)\n",
    "asymmetrical_minority = pr.PyRanges(all_duplex_sites.loc[all_duplex_sites.eval(\"Asymmetrical >= (readCount/3)\")], int64=True)"
   ]
  },
  {
   "cell_type": "code",
   "execution_count": 22,
   "metadata": {},
   "outputs": [
    {
     "data": {
      "text/plain": [
       "0.629910793406983"
      ]
     },
     "execution_count": 22,
     "metadata": {},
     "output_type": "execute_result"
    }
   ],
   "source": [
    "len(ctcf_chip.count_overlaps(asymmetrical_containing).subset(lambda df: df.NumberOverlaps > 0))/len(ctcf_chip)"
   ]
  },
  {
   "cell_type": "markdown",
   "metadata": {},
   "source": [
    "63.0% of all CTCF peaks contain at least one asymmetrical CpG site across reads. "
   ]
  },
  {
   "cell_type": "code",
   "execution_count": 23,
   "metadata": {},
   "outputs": [
    {
     "data": {
      "text/plain": [
       "0.061233532226620195"
      ]
     },
     "execution_count": 23,
     "metadata": {},
     "output_type": "execute_result"
    }
   ],
   "source": [
    "len(ctcf_chip.count_overlaps(asymmetrical_majority).subset(lambda df: df.NumberOverlaps > 0))/len(ctcf_chip)"
   ]
  },
  {
   "cell_type": "markdown",
   "metadata": {},
   "source": [
    "But only 6.1% overlap a majority asymmetrical CpG site. "
   ]
  },
  {
   "cell_type": "markdown",
   "metadata": {},
   "source": [
    "### What proportion of bound bidirectional CTCF motifs have asymmetrical CpG sites? "
   ]
  },
  {
   "cell_type": "code",
   "execution_count": 29,
   "metadata": {},
   "outputs": [
    {
     "data": {
      "text/plain": [
       "0.13772893772893774"
      ]
     },
     "execution_count": 29,
     "metadata": {},
     "output_type": "execute_result"
    }
   ],
   "source": [
    "len(bidirectional_bound.count_overlaps(asymmetrical_containing).subset(lambda df: df.NumberOverlaps > 0))/len(bidirectional_bound)"
   ]
  },
  {
   "cell_type": "code",
   "execution_count": 101,
   "metadata": {},
   "outputs": [
    {
     "data": {
      "text/html": [
       "<div>\n",
       "<style scoped>\n",
       "    .dataframe tbody tr th:only-of-type {\n",
       "        vertical-align: middle;\n",
       "    }\n",
       "\n",
       "    .dataframe tbody tr th {\n",
       "        vertical-align: top;\n",
       "    }\n",
       "\n",
       "    .dataframe thead th {\n",
       "        text-align: right;\n",
       "    }\n",
       "</style>\n",
       "<table border=\"1\" class=\"dataframe\">\n",
       "  <thead>\n",
       "    <tr style=\"text-align: right;\">\n",
       "      <th></th>\n",
       "      <th>Chromosome</th>\n",
       "      <th>Start</th>\n",
       "      <th>End</th>\n",
       "      <th>FoldDifference</th>\n",
       "      <th>pValue</th>\n",
       "      <th>qValue</th>\n",
       "      <th>NumberOverlaps</th>\n",
       "    </tr>\n",
       "  </thead>\n",
       "  <tbody>\n",
       "    <tr>\n",
       "      <th>0</th>\n",
       "      <td>chr1</td>\n",
       "      <td>6929426</td>\n",
       "      <td>6929442</td>\n",
       "      <td>12.43020</td>\n",
       "      <td>32.8458</td>\n",
       "      <td>29.72820</td>\n",
       "      <td>1</td>\n",
       "    </tr>\n",
       "    <tr>\n",
       "      <th>1</th>\n",
       "      <td>chr1</td>\n",
       "      <td>7467272</td>\n",
       "      <td>7467289</td>\n",
       "      <td>19.57860</td>\n",
       "      <td>79.1246</td>\n",
       "      <td>75.49170</td>\n",
       "      <td>1</td>\n",
       "    </tr>\n",
       "    <tr>\n",
       "      <th>2</th>\n",
       "      <td>chr1</td>\n",
       "      <td>16063959</td>\n",
       "      <td>16063975</td>\n",
       "      <td>13.57840</td>\n",
       "      <td>66.2908</td>\n",
       "      <td>62.81250</td>\n",
       "      <td>1</td>\n",
       "    </tr>\n",
       "    <tr>\n",
       "      <th>3</th>\n",
       "      <td>chr1</td>\n",
       "      <td>19126743</td>\n",
       "      <td>19126759</td>\n",
       "      <td>7.35032</td>\n",
       "      <td>18.3673</td>\n",
       "      <td>15.43370</td>\n",
       "      <td>2</td>\n",
       "    </tr>\n",
       "    <tr>\n",
       "      <th>4</th>\n",
       "      <td>chr1</td>\n",
       "      <td>40926953</td>\n",
       "      <td>40926970</td>\n",
       "      <td>18.44570</td>\n",
       "      <td>49.4407</td>\n",
       "      <td>46.14660</td>\n",
       "      <td>1</td>\n",
       "    </tr>\n",
       "    <tr>\n",
       "      <th>...</th>\n",
       "      <td>...</td>\n",
       "      <td>...</td>\n",
       "      <td>...</td>\n",
       "      <td>...</td>\n",
       "      <td>...</td>\n",
       "      <td>...</td>\n",
       "      <td>...</td>\n",
       "    </tr>\n",
       "    <tr>\n",
       "      <th>183</th>\n",
       "      <td>chrY</td>\n",
       "      <td>90772968</td>\n",
       "      <td>90772985</td>\n",
       "      <td>3.56775</td>\n",
       "      <td>12.0592</td>\n",
       "      <td>9.23583</td>\n",
       "      <td>2</td>\n",
       "    </tr>\n",
       "    <tr>\n",
       "      <th>184</th>\n",
       "      <td>chrY</td>\n",
       "      <td>90772701</td>\n",
       "      <td>90772718</td>\n",
       "      <td>11.30250</td>\n",
       "      <td>65.2424</td>\n",
       "      <td>61.77560</td>\n",
       "      <td>2</td>\n",
       "    </tr>\n",
       "    <tr>\n",
       "      <th>185</th>\n",
       "      <td>chrY</td>\n",
       "      <td>90772968</td>\n",
       "      <td>90772985</td>\n",
       "      <td>11.30250</td>\n",
       "      <td>65.2424</td>\n",
       "      <td>61.77560</td>\n",
       "      <td>2</td>\n",
       "    </tr>\n",
       "    <tr>\n",
       "      <th>186</th>\n",
       "      <td>chrY</td>\n",
       "      <td>90775856</td>\n",
       "      <td>90775873</td>\n",
       "      <td>10.47740</td>\n",
       "      <td>54.5542</td>\n",
       "      <td>51.20800</td>\n",
       "      <td>1</td>\n",
       "    </tr>\n",
       "    <tr>\n",
       "      <th>187</th>\n",
       "      <td>chrY</td>\n",
       "      <td>90851056</td>\n",
       "      <td>90851073</td>\n",
       "      <td>10.55420</td>\n",
       "      <td>45.3983</td>\n",
       "      <td>42.14830</td>\n",
       "      <td>1</td>\n",
       "    </tr>\n",
       "  </tbody>\n",
       "</table>\n",
       "<p>188 rows × 7 columns</p>\n",
       "</div>"
      ],
      "text/plain": [
       "+--------------+-----------+-----------+------------------+-------+\n",
       "| Chromosome   | Start     | End       | FoldDifference   | +3    |\n",
       "| (category)   | (int64)   | (int64)   | (float64)        | ...   |\n",
       "|--------------+-----------+-----------+------------------+-------|\n",
       "| chr1         | 6929426   | 6929442   | 12.4302          | ...   |\n",
       "| chr1         | 7467272   | 7467289   | 19.5786          | ...   |\n",
       "| chr1         | 16063959  | 16063975  | 13.5784          | ...   |\n",
       "| chr1         | 19126743  | 19126759  | 7.35032          | ...   |\n",
       "| ...          | ...       | ...       | ...              | ...   |\n",
       "| chrY         | 90772701  | 90772718  | 11.3025          | ...   |\n",
       "| chrY         | 90772968  | 90772985  | 11.3025          | ...   |\n",
       "| chrY         | 90775856  | 90775873  | 10.4774          | ...   |\n",
       "| chrY         | 90851056  | 90851073  | 10.5542          | ...   |\n",
       "+--------------+-----------+-----------+------------------+-------+\n",
       "Unstranded PyRanges object has 188 rows and 7 columns from 21 chromosomes.\n",
       "For printing, the PyRanges was sorted on Chromosome.\n",
       "3 hidden columns: pValue, qValue, NumberOverlaps"
      ]
     },
     "execution_count": 101,
     "metadata": {},
     "output_type": "execute_result"
    }
   ],
   "source": [
    "bidirectional_bound.count_overlaps(asymmetrical_containing).subset(lambda df: df.NumberOverlaps > 0)"
   ]
  },
  {
   "cell_type": "markdown",
   "metadata": {},
   "source": [
    "Only 13.8% of bidirectional CTCF sites overlap a CpG site that contains asymmetrical reads"
   ]
  },
  {
   "cell_type": "code",
   "execution_count": 30,
   "metadata": {},
   "outputs": [
    {
     "data": {
      "text/plain": [
       "0.003663003663003663"
      ]
     },
     "execution_count": 30,
     "metadata": {},
     "output_type": "execute_result"
    }
   ],
   "source": [
    "len(bidirectional_bound.count_overlaps(asymmetrical_majority).subset(lambda df: df.NumberOverlaps > 0))/len(bidirectional_bound)"
   ]
  },
  {
   "cell_type": "code",
   "execution_count": 38,
   "metadata": {},
   "outputs": [
    {
     "data": {
      "text/html": [
       "<div>\n",
       "<style scoped>\n",
       "    .dataframe tbody tr th:only-of-type {\n",
       "        vertical-align: middle;\n",
       "    }\n",
       "\n",
       "    .dataframe tbody tr th {\n",
       "        vertical-align: top;\n",
       "    }\n",
       "\n",
       "    .dataframe thead th {\n",
       "        text-align: right;\n",
       "    }\n",
       "</style>\n",
       "<table border=\"1\" class=\"dataframe\">\n",
       "  <thead>\n",
       "    <tr style=\"text-align: right;\">\n",
       "      <th></th>\n",
       "      <th>Chromosome</th>\n",
       "      <th>Start</th>\n",
       "      <th>End</th>\n",
       "      <th>FoldDifference</th>\n",
       "      <th>pValue</th>\n",
       "      <th>qValue</th>\n",
       "      <th>NumberOverlaps</th>\n",
       "    </tr>\n",
       "  </thead>\n",
       "  <tbody>\n",
       "    <tr>\n",
       "      <th>0</th>\n",
       "      <td>chr2</td>\n",
       "      <td>129380134</td>\n",
       "      <td>129380151</td>\n",
       "      <td>5.24912</td>\n",
       "      <td>12.62010</td>\n",
       "      <td>9.78457</td>\n",
       "      <td>1</td>\n",
       "    </tr>\n",
       "    <tr>\n",
       "      <th>1</th>\n",
       "      <td>chr8</td>\n",
       "      <td>122774309</td>\n",
       "      <td>122774326</td>\n",
       "      <td>6.08308</td>\n",
       "      <td>11.66270</td>\n",
       "      <td>8.84660</td>\n",
       "      <td>1</td>\n",
       "    </tr>\n",
       "    <tr>\n",
       "      <th>2</th>\n",
       "      <td>chr12</td>\n",
       "      <td>90696550</td>\n",
       "      <td>90696567</td>\n",
       "      <td>19.34000</td>\n",
       "      <td>57.57210</td>\n",
       "      <td>54.19110</td>\n",
       "      <td>1</td>\n",
       "    </tr>\n",
       "    <tr>\n",
       "      <th>3</th>\n",
       "      <td>chr15</td>\n",
       "      <td>86289932</td>\n",
       "      <td>86289938</td>\n",
       "      <td>32.56700</td>\n",
       "      <td>159.76300</td>\n",
       "      <td>154.44500</td>\n",
       "      <td>1</td>\n",
       "    </tr>\n",
       "    <tr>\n",
       "      <th>4</th>\n",
       "      <td>chr18</td>\n",
       "      <td>24837242</td>\n",
       "      <td>24837259</td>\n",
       "      <td>4.14462</td>\n",
       "      <td>7.99138</td>\n",
       "      <td>5.26802</td>\n",
       "      <td>1</td>\n",
       "    </tr>\n",
       "  </tbody>\n",
       "</table>\n",
       "</div>"
      ],
      "text/plain": [
       "+--------------+-----------+-----------+------------------+-------+\n",
       "| Chromosome   |     Start |       End |   FoldDifference | +3    |\n",
       "| (category)   |   (int64) |   (int64) |        (float64) | ...   |\n",
       "|--------------+-----------+-----------+------------------+-------|\n",
       "| chr2         | 129380134 | 129380151 |          5.24912 | ...   |\n",
       "| chr8         | 122774309 | 122774326 |          6.08308 | ...   |\n",
       "| chr12        |  90696550 |  90696567 |         19.34    | ...   |\n",
       "| chr15        |  86289932 |  86289938 |         32.567   | ...   |\n",
       "| chr18        |  24837242 |  24837259 |          4.14462 | ...   |\n",
       "+--------------+-----------+-----------+------------------+-------+\n",
       "Unstranded PyRanges object has 5 rows and 7 columns from 5 chromosomes.\n",
       "For printing, the PyRanges was sorted on Chromosome.\n",
       "3 hidden columns: pValue, qValue, NumberOverlaps"
      ]
     },
     "execution_count": 38,
     "metadata": {},
     "output_type": "execute_result"
    }
   ],
   "source": [
    "bidirectional_bound.count_overlaps(asymmetrical_majority).subset(lambda df: df.NumberOverlaps > 0)"
   ]
  },
  {
   "cell_type": "markdown",
   "metadata": {},
   "source": [
    "Very few 0.3% of bidirectional CTCF sites contain asymmetrical majority positions. "
   ]
  },
  {
   "cell_type": "code",
   "execution_count": 64,
   "metadata": {},
   "outputs": [
    {
     "data": {
      "text/plain": [
       "0.00805860805860806"
      ]
     },
     "execution_count": 64,
     "metadata": {},
     "output_type": "execute_result"
    }
   ],
   "source": [
    "len(bidirectional_bound.count_overlaps(asymmetrical_minority).subset(lambda df: df.NumberOverlaps > 0))/len(bidirectional_bound)"
   ]
  },
  {
   "cell_type": "markdown",
   "metadata": {},
   "source": [
    "### How many bidirectional bound CTCF sites overlap majority C:C positions? "
   ]
  },
  {
   "cell_type": "code",
   "execution_count": 44,
   "metadata": {},
   "outputs": [
    {
     "data": {
      "text/plain": [
       "0.2703296703296703"
      ]
     },
     "execution_count": 44,
     "metadata": {},
     "output_type": "execute_result"
    }
   ],
   "source": [
    "cc_majority = pr.PyRanges(all_duplex_sites.loc[all_duplex_sites.eval(\"CC >= (readCount/2)\")], int64=True)\n",
    "\n",
    "len(bidirectional_bound.count_overlaps(cc_majority).subset(lambda df: df.NumberOverlaps > 0))/len(bidirectional_bound)"
   ]
  },
  {
   "cell_type": "markdown",
   "metadata": {},
   "source": [
    "27% (n=369) are majority CC"
   ]
  },
  {
   "cell_type": "markdown",
   "metadata": {},
   "source": [
    "### How many bidirectional bound CTCF sites overlap majority 5mC:5mC positions? "
   ]
  },
  {
   "cell_type": "code",
   "execution_count": 47,
   "metadata": {},
   "outputs": [
    {
     "data": {
      "text/plain": [
       "0.012454212454212455"
      ]
     },
     "execution_count": 47,
     "metadata": {},
     "output_type": "execute_result"
    }
   ],
   "source": [
    "mm_majority = pr.PyRanges(all_duplex_sites.loc[all_duplex_sites.eval(\"MM >= (readCount/2)\")], int64=True)\n",
    "\n",
    "len(bidirectional_bound.count_overlaps(mm_majority).subset(lambda df: df.NumberOverlaps > 0))/len(bidirectional_bound)"
   ]
  },
  {
   "cell_type": "markdown",
   "metadata": {},
   "source": [
    "### What are bidirectional motifs made of? "
   ]
  },
  {
   "cell_type": "code",
   "execution_count": 96,
   "metadata": {},
   "outputs": [],
   "source": [
    "all_bidirectional_sites = pr.PyRanges(all_duplex_sites, int64=True).intersect(bidirectional_bound).as_df()"
   ]
  },
  {
   "cell_type": "code",
   "execution_count": 100,
   "metadata": {},
   "outputs": [
    {
     "data": {
      "text/plain": [
       "0.044693237796686075"
      ]
     },
     "execution_count": 100,
     "metadata": {},
     "output_type": "execute_result"
    }
   ],
   "source": [
    "all_bidirectional_sites[\"Asymmetrical\"].sum()/all_bidirectional_sites[\"readCount\"].sum()"
   ]
  },
  {
   "cell_type": "code",
   "execution_count": null,
   "metadata": {},
   "outputs": [],
   "source": [
    "for col in [\"CC\",\t\"CH\",\t\"CM\",\t\"HC\",\t\"HH\",\t\"HM\",\t\"MC\",\t\"MH\",\t\"MM\"]:\n",
    "    all_bidirectional_sites[col] = all_bidirectional_sites.eval(f\"({col}/readCount)*100\")\n",
    "    \n",
    "all_bidirectional_sites[[\"CC\",\t\"CH\",\t\"CM\",\t\"HC\",\t\"HH\",\t\"HM\",\t\"MC\",\t\"MH\",\t\"MM\"]].mean()"
   ]
  },
  {
   "cell_type": "code",
   "execution_count": 61,
   "metadata": {},
   "outputs": [
    {
     "data": {
      "text/plain": [
       "Pattern\n",
       "CC    84.936788\n",
       "CH     1.033573\n",
       "CM     1.039718\n",
       "HC     1.031736\n",
       "HH     1.640138\n",
       "HM     1.832340\n",
       "MC     1.019602\n",
       "MH     1.808567\n",
       "MM     5.657538\n",
       "dtype: float64"
      ]
     },
     "execution_count": 61,
     "metadata": {},
     "output_type": "execute_result"
    }
   ],
   "source": [
    "all_bound_sites = pr.PyRanges(all_duplex_sites, int64=True).intersect(ctcf_chip).as_df()\n",
    "\n",
    "for col in [\"CC\",\t\"CH\",\t\"CM\",\t\"HC\",\t\"HH\",\t\"HM\",\t\"MC\",\t\"MH\",\t\"MM\"]:\n",
    "    all_bound_sites[col] = all_bound_sites.eval(f\"({col}/readCount)*100\")\n",
    "\n",
    "all_bound_sites[[\"CC\",\t\"CH\",\t\"CM\",\t\"HC\",\t\"HH\",\t\"HM\",\t\"MC\",\t\"MH\",\t\"MM\"]].mean()"
   ]
  },
  {
   "cell_type": "markdown",
   "metadata": {},
   "source": [
    "Basically identical to the average for CTCF bound motifs. Slightly more C:C"
   ]
  },
  {
   "cell_type": "markdown",
   "metadata": {},
   "source": [
    "### Of the bound bidirectional motifs where asymmetrical reads are at least present, what genes are associated? "
   ]
  },
  {
   "cell_type": "code",
   "execution_count": 138,
   "metadata": {},
   "outputs": [],
   "source": [
    "genes = pr.PyRanges(pr.read_bed(\"feature_references/genes/mm39_GENCODEVM33_bed8.bed\").as_df(), int64=True)\n",
    "\n",
    "bidirectional_intersecting_genes = pd.Series(genes.join(asymmetrical_containing.intersect(bidirectional_bound))\\\n",
    "    .as_df()[\"Name\"].unique())"
   ]
  },
  {
   "cell_type": "code",
   "execution_count": 139,
   "metadata": {},
   "outputs": [],
   "source": [
    "bidirectional_intersecting_genes.to_csv(\"data/ctcf/bidirectional_asymmetrical_genes.txt\", index=False, header=False)"
   ]
  },
  {
   "cell_type": "code",
   "execution_count": 140,
   "metadata": {},
   "outputs": [
    {
     "data": {
      "text/plain": [
       "0         Cd247\n",
       "1          St18\n",
       "2          Dgkd\n",
       "3       Gm33667\n",
       "4         Gpa33\n",
       "         ...   \n",
       "97       Bcap31\n",
       "98     Slc25a53\n",
       "99      Gm15726\n",
       "100     Gm15247\n",
       "101     Gm21860\n",
       "Length: 102, dtype: object"
      ]
     },
     "execution_count": 140,
     "metadata": {},
     "output_type": "execute_result"
    }
   ],
   "source": [
    "bidirectional_intersecting_genes"
   ]
  },
  {
   "cell_type": "markdown",
   "metadata": {},
   "source": [
    "Of the bound bidirectional motifs where CC is the majority state, what genes are associated? "
   ]
  },
  {
   "cell_type": "code",
   "execution_count": 120,
   "metadata": {},
   "outputs": [],
   "source": [
    "cc_intersecting_genes = pd.Series(genes.join(cc_majority.intersect(bidirectional_bound))\\\n",
    "    .as_df()[\"Name\"].unique())\\\n",
    "    .to_csv(\"data/ctcf/bidirectional_cc_genes.txt\", index=False, header=False)"
   ]
  }
 ],
 "metadata": {
  "kernelspec": {
   "display_name": "GeneralAnalysis",
   "language": "python",
   "name": "python3"
  },
  "language_info": {
   "codemirror_mode": {
    "name": "ipython",
    "version": 3
   },
   "file_extension": ".py",
   "mimetype": "text/x-python",
   "name": "python",
   "nbconvert_exporter": "python",
   "pygments_lexer": "ipython3",
   "version": "3.9.18"
  }
 },
 "nbformat": 4,
 "nbformat_minor": 2
}

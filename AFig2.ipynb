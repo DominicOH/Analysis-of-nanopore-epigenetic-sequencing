{
 "cells": [
  {
   "cell_type": "code",
   "execution_count": null,
   "metadata": {},
   "outputs": [],
   "source": [
    "import pandas as pd\n",
    "from ProjectTools import OpenBeds\n",
    "from ProjectTools.OpenBeds import filterDepth\n",
    "\n",
    "dry = True\n",
    "\n",
    "if dry == True:\n",
    "    wgbs_bed_path = './test_data/ENCSR893RHD_modifications_mm39_sub.bed'\n",
    "    tab_bed_path = './test_data/CRR008807_TAB_merged.bedGraph.gz.bismark.zero.cov_sub.bed'\n",
    "    oxbs_bed_path = './test_data/CRD018546.gz_val_1_bismark_bt2_pe.deduplicated.bedGraph.gz.bismark.zero.cov_sub.bed'\n",
    "\n",
    "    nano_2mod_path = './test_data/prom_R10.4.1_E8.2_WGS_brain_DH_5mC_nonAggregated_sub.bedMethyl'\n",
    "    nano_3mod_path = './test_data/prom_R10.4.1_E8.2_WGS_brain_0.9.1_mods_sub.bed'\n",
    "    \n",
    "    nano_mc_df, nano_hmc_df = map(filterDepth, OpenBeds.get_nanopore_threeMod(nano_3mod_path))\n",
    "\n",
    "    nano_2mod_df = filterDepth(OpenBeds.get_nanopore_twoMod(nano_2mod_path))\n",
    "    wgbs_df = filterDepth(OpenBeds.get_wgbs(wgbs_bed_path))\n",
    "    tab_df = filterDepth(OpenBeds.get_bismark(tab_bed_path, \"5hmC\"))\n",
    "    oxbs_df = filterDepth(OpenBeds.get_bismark(oxbs_bed_path, \"5mC\"))\n",
    "\n",
    "else:\n",
    "    wgbs_bed_path = './data/ENCSR893RHD_modifications_mm39.bed'\n",
    "    tab_bed_path = './data/TAB_data/CRR008807_TAB_merged.bedGraph.gz.bismark.zero.cov'\n",
    "    oxbs_bed_path = './data/CRR008808_oxBS_remergedRaw.zero.cov_modified.bed'\n",
    "\n",
    "    nano_2mod_path = './data/prom_R10.4.1_E8.2_WGS_brain_DH_5mC_nonAggregated.bedMethyl'\n",
    "    nano_3mod_path = './data/prom_R10.4.1_E8.2_WGS_brain_0.9.1_mods.bed'\n",
    "\n",
    "    nano_mc_df, nano_hmc_df = map(filterDepth, OpenBeds.get_nanopore_threeMod(nano_3mod_path))\n",
    "\n",
    "    nano_2mod_df = filterDepth(OpenBeds.get_nanopore_twoMod(nano_2mod_path))\n",
    "    wgbs_df = filterDepth(OpenBeds.get_wgbs(wgbs_bed_path))\n",
    "    tab_df = filterDepth(OpenBeds.get_bismark(tab_bed_path, \"5hmC\"))\n",
    "    oxbs_df = filterDepth(OpenBeds.get_bismark(oxbs_bed_path, \"5mC\"))"
   ]
  }
 ],
 "metadata": {
  "language_info": {
   "name": "python"
  },
  "orig_nbformat": 4
 },
 "nbformat": 4,
 "nbformat_minor": 2
}

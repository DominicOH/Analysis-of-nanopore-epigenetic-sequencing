{
 "cells": [
  {
   "cell_type": "code",
   "execution_count": 2,
   "metadata": {},
   "outputs": [
    {
     "data": {
      "text/plain": [
       "{0: 23,\n",
       " 1: 22,\n",
       " 2: 17,\n",
       " 3: 19,\n",
       " 4: 18,\n",
       " 5: 13,\n",
       " 6: 2,\n",
       " 7: 10,\n",
       " 8: 9,\n",
       " 9: 12,\n",
       " 10: 1,\n",
       " 11: 16,\n",
       " 12: 11,\n",
       " 13: 15,\n",
       " 14: 20,\n",
       " 15: 3,\n",
       " 16: 8,\n",
       " 17: 21,\n",
       " 18: 5,\n",
       " 19: 6,\n",
       " 20: 14,\n",
       " 21: 7,\n",
       " 22: 4,\n",
       " 23: 0}"
      ]
     },
     "execution_count": 2,
     "metadata": {},
     "output_type": "execute_result"
    }
   ],
   "source": [
    "import pandas as pd\n",
    "\n",
    "top_hmc_genes = pd.read_excel('./top_hmc_genes.xlsx').to_dict()\n",
    "top_hmc_genes.pop(\"Unnamed: 0\")\n"
   ]
  },
  {
   "cell_type": "code",
   "execution_count": 3,
   "metadata": {},
   "outputs": [],
   "source": [
    "import subprocess\n",
    "\n",
    "genes_info = {}\n",
    "\n",
    "for gene_name in top_hmc_genes[\"gene_name\"].values():\n",
    "    gene_info = subprocess.check_output(\n",
    "        \"grep {gene_name} ./feature_references/fig5_features/mm39_RefSeqC_select_merged_modified.bed\".format(\n",
    "        gene_name=gene_name), shell=True).decode(\n",
    "        \"UTF-8\").split()\n",
    "    gene_entry = {\n",
    "        gene_name : \n",
    "        {\n",
    "        \"chromosome\" : gene_info[0],\n",
    "        \"chromStart\" : gene_info[1],\n",
    "        \"chromEnd\" : gene_info[2],\n",
    "        \"strand\" : gene_info[5]\n",
    "        }\n",
    "        }\n",
    "    \n",
    "    genes_info.update(gene_entry)"
   ]
  },
  {
   "cell_type": "code",
   "execution_count": 29,
   "metadata": {},
   "outputs": [],
   "source": [
    "target_bed = pd.DataFrame(genes_info).T.reset_index()[[\"chromosome\", \"chromStart\", \"chromEnd\"]]\n",
    "target_bed.to_csv('./feature_references/fig7_genes/target_genes.bed', sep=\"\\t\", header=None, index=None)"
   ]
  },
  {
   "cell_type": "code",
   "execution_count": 5,
   "metadata": {},
   "outputs": [
    {
     "ename": "NameError",
     "evalue": "name 'coord_dict' is not defined",
     "output_type": "error",
     "traceback": [
      "\u001b[0;31m---------------------------------------------------------------------------\u001b[0m",
      "\u001b[0;31mNameError\u001b[0m                                 Traceback (most recent call last)",
      "\u001b[1;32m/mnt/data1/doh28/analyses/mouse_hydroxymethylome_analysis/Non_imprinted_read_level_fig7.ipynb Cell 4\u001b[0m in \u001b[0;36m<cell line: 3>\u001b[0;34m()\u001b[0m\n\u001b[1;32m      <a href='vscode-notebook-cell://ssh-remote%2Bbspc-linux-12.bath.ac.uk/mnt/data1/doh28/analyses/mouse_hydroxymethylome_analysis/Non_imprinted_read_level_fig7.ipynb#W3sdnNjb2RlLXJlbW90ZQ%3D%3D?line=2'>3</a>\u001b[0m \u001b[39mwith\u001b[39;00m ModBam(\u001b[39m'\u001b[39m\u001b[39m./data/prom_R10.4.1_E8.2_WGS_brain_DMR_regions.bam\u001b[39m\u001b[39m'\u001b[39m) \u001b[39mas\u001b[39;00m bam: \n\u001b[1;32m      <a href='vscode-notebook-cell://ssh-remote%2Bbspc-linux-12.bath.ac.uk/mnt/data1/doh28/analyses/mouse_hydroxymethylome_analysis/Non_imprinted_read_level_fig7.ipynb#W3sdnNjb2RlLXJlbW90ZQ%3D%3D?line=3'>4</a>\u001b[0m     gene_list \u001b[39m=\u001b[39m []\n\u001b[0;32m----> <a href='vscode-notebook-cell://ssh-remote%2Bbspc-linux-12.bath.ac.uk/mnt/data1/doh28/analyses/mouse_hydroxymethylome_analysis/Non_imprinted_read_level_fig7.ipynb#W3sdnNjb2RlLXJlbW90ZQ%3D%3D?line=4'>5</a>\u001b[0m     \u001b[39mfor\u001b[39;00m gene \u001b[39min\u001b[39;00m coord_dict\u001b[39m.\u001b[39mvalues():\n\u001b[1;32m      <a href='vscode-notebook-cell://ssh-remote%2Bbspc-linux-12.bath.ac.uk/mnt/data1/doh28/analyses/mouse_hydroxymethylome_analysis/Non_imprinted_read_level_fig7.ipynb#W3sdnNjb2RlLXJlbW90ZQ%3D%3D?line=5'>6</a>\u001b[0m         read_list \u001b[39m=\u001b[39m []\n\u001b[1;32m      <a href='vscode-notebook-cell://ssh-remote%2Bbspc-linux-12.bath.ac.uk/mnt/data1/doh28/analyses/mouse_hydroxymethylome_analysis/Non_imprinted_read_level_fig7.ipynb#W3sdnNjb2RlLXJlbW90ZQ%3D%3D?line=6'>7</a>\u001b[0m         \u001b[39mfor\u001b[39;00m read \u001b[39min\u001b[39;00m bam\u001b[39m.\u001b[39mreads(gene[\u001b[39m\"\u001b[39m\u001b[39mchromosome\u001b[39m\u001b[39m\"\u001b[39m], gene[\u001b[39m\"\u001b[39m\u001b[39mchromStart\u001b[39m\u001b[39m\"\u001b[39m], gene[\u001b[39m\"\u001b[39m\u001b[39mchromEnd\u001b[39m\u001b[39m\"\u001b[39m]):\n",
      "\u001b[0;31mNameError\u001b[0m: name 'coord_dict' is not defined"
     ]
    }
   ],
   "source": [
    "from modbampy import ModBam\n",
    "\n",
    "with ModBam('./data/prom_R10.4.1_E8.2_WGS_brain_DMR_regions.bam') as bam: \n",
    "    gene_list = []\n",
    "    for gene in genes_info.values():\n",
    "        read_list = []\n",
    "        for read in bam.reads(gene[\"chromosome\"], gene[\"chromStart\"], gene[\"chromEnd\"]):\n",
    "            read_sites = []\n",
    "            for mod_position in read.mod_sites:\n",
    "                mod_position_info = [gene[\"chromosome\"], gene[\"chromStart\"], gene[\"chromEnd\"], gene[\"geneName\"]]\n",
    "                for datum in mod_position:\n",
    "                    mod_position_info.append(datum)\n",
    "                read_sites.append(mod_position_info)\n",
    "            read_list.extend(read_sites)\n",
    "        gene_list.extend(read_list)\n",
    "    names=[\"chromosome\", \"chromStart\", \"chromEnd\", \"geneName\", \"read\", \"refPos\", \"qPos\", \"refStrand\", \"modStrand\", \"base\", \"mod\", \"score\"]\n",
    "    gene_df = pd.DataFrame(gene_list, columns=names)"
   ]
  },
  {
   "cell_type": "code",
   "execution_count": null,
   "metadata": {},
   "outputs": [],
   "source": []
  }
 ],
 "metadata": {
  "kernelspec": {
   "display_name": "NanoporeEvaluationVenv",
   "language": "python",
   "name": "python3"
  },
  "language_info": {
   "codemirror_mode": {
    "name": "ipython",
    "version": 3
   },
   "file_extension": ".py",
   "mimetype": "text/x-python",
   "name": "python",
   "nbconvert_exporter": "python",
   "pygments_lexer": "ipython3",
   "version": "3.10.9"
  },
  "orig_nbformat": 4
 },
 "nbformat": 4,
 "nbformat_minor": 2
}

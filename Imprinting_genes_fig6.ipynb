{
 "cells": [
  {
   "cell_type": "code",
   "execution_count": 1,
   "metadata": {},
   "outputs": [],
   "source": [
    "from modbampy import ModBam\n",
    "import pandas as pd\n",
    "import seaborn as sns\n",
    "import matplotlib.pyplot as plt"
   ]
  },
  {
   "cell_type": "code",
   "execution_count": 2,
   "metadata": {},
   "outputs": [],
   "source": [
    "def retrievePositionsDF(path):\n",
    "    names=[\"chromosome\", \"chromStart\", \"chromEnd\", \"geneName\", \"POO\"]\n",
    "    positions_df = pd.read_csv(path, names=names, sep=\"\\t\")\n",
    "    return positions_df\n"
   ]
  },
  {
   "cell_type": "code",
   "execution_count": 3,
   "metadata": {},
   "outputs": [],
   "source": [
    "dmr_coords_path = './feature_references/fig6_features/mm39_dmr_coordinates.bed'\n",
    "\n",
    "def retrievePositionsFromDF(df):\n",
    "    dict_of_coordinates = {}\n",
    "    for line, value in df.iterrows():\n",
    "        index = value[3]\n",
    "        sub_dict = {\n",
    "            \"chromosome\" : value[0],\n",
    "            \"chromStart\" : value[1],\n",
    "            \"chromEnd\" : value[2],\n",
    "            \"geneName\" : value[3]\n",
    "        }\n",
    "        coord_dict = {index : sub_dict}\n",
    "        dict_of_coordinates.update(coord_dict)\n",
    "    return dict_of_coordinates\n",
    "\n",
    "coord_dict = retrievePositionsFromDF(retrievePositionsDF(dmr_coords_path))"
   ]
  },
  {
   "cell_type": "code",
   "execution_count": 4,
   "metadata": {},
   "outputs": [],
   "source": [
    "with ModBam('./data/prom_R10.4.1_E8.2_WGS_brain_DMR_regions.bam') as bam: \n",
    "    gene_list = []\n",
    "    for gene in coord_dict.values():\n",
    "        read_list = []\n",
    "        for read in bam.reads(gene[\"chromosome\"], gene[\"chromStart\"], gene[\"chromEnd\"]):\n",
    "            read_sites = []\n",
    "            for mod_position in read.mod_sites:\n",
    "                mod_position_info = [gene[\"chromosome\"], gene[\"chromStart\"], gene[\"chromEnd\"], gene[\"geneName\"]]\n",
    "                for datum in mod_position:\n",
    "                    mod_position_info.append(datum)\n",
    "                read_sites.append(mod_position_info)\n",
    "            read_list.extend(read_sites)\n",
    "        gene_list.extend(read_list)\n",
    "    names=[\"chromosome\", \"chromStart\", \"chromEnd\", \"geneName\", \"read\", \"refPos\", \"qPos\", \"refStrand\", \"modStrand\", \"base\", \"mod\", \"score\"]\n",
    "    gene_df = pd.DataFrame(gene_list, columns=names)"
   ]
  },
  {
   "cell_type": "code",
   "execution_count": 5,
   "metadata": {},
   "outputs": [],
   "source": [
    "def filterGeneStrands(all_imprinted_gene_df, gene): \n",
    "    \n",
    "    gene_df = all_imprinted_gene_df.loc[(all_imprinted_gene_df[\"geneName\"] == gene) & # filter to the gene\n",
    "                                        (all_imprinted_gene_df[\"refPos\"] >= all_imprinted_gene_df[\"chromStart\"]) & # filter to gene coords\n",
    "                                        (all_imprinted_gene_df[\"refPos\"] <= all_imprinted_gene_df[\"chromEnd\"])] \n",
    "    \n",
    "    gene_df_pivot1 = gene_df.pivot(index=[\"chromosome\", \"chromStart\", \"chromEnd\", \"refStrand\",  \"geneName\", \"read\", \"refPos\", \"qPos\"], columns=\"mod\", values=\"score\").reset_index()\n",
    "    gene_df_pivot1[\"c\"] = 255 - gene_df_pivot1[[\"h\", \"m\"]].sum(axis=1)\n",
    "    gene_df_melt = pd.melt(gene_df_pivot1, [\"chromosome\", \"chromStart\", \"chromEnd\", \"refStrand\", \"geneName\", \"read\", \"refPos\", \"qPos\"], [\"h\", \"m\", \"c\"], \"mod\", \"score\")\n",
    "    gene_df_melt = gene_df_melt.loc[gene_df_melt[\"score\"] >= 0.66*255]\n",
    "    gene_df_melt.loc[gene_df_melt[\"refStrand\"] == \"-\", \"refPos\"] = gene_df_melt[\"refPos\"].sub(1, axis=0)\n",
    "\n",
    "    return gene_df_melt\n",
    "\n",
    "def pivotToHeatmap(df):\n",
    "    df = df.pivot(index=\"read\", columns=[\"refPos\"], values=\"mod\")\n",
    "    df[df == \"c\"] = 0\n",
    "    df[df == \"h\"] = 2\n",
    "    df[df == \"m\"] = 1\n",
    "    \n",
    "    return df\n",
    "\n",
    "def NADropper(df):\n",
    "    new_df = df.dropna(thresh=len(df)*0.2, axis=\"columns\") # removes CpGs present in fewer than 20% of reads\n",
    "    new_df = new_df.dropna(thresh=len(new_df.columns)*0.50, axis=\"index\") # removes reads with fewer than 75% of CpGs\n",
    "    return new_df\n"
   ]
  },
  {
   "cell_type": "code",
   "execution_count": 6,
   "metadata": {},
   "outputs": [],
   "source": [
    "def makeHeatmap(gene):\n",
    "\n",
    "    fig = plt.figure()\n",
    "\n",
    "    data = NADropper(pivotToHeatmap(filterGeneStrands(gene_df, gene)))\n",
    "\n",
    "    g = sns.clustermap(data.fillna(-1), \n",
    "                mask=data.isna(), \n",
    "                xticklabels=10, yticklabels=False,\n",
    "                col_cluster=False, row_cluster=True, \n",
    "                cmap=sns.color_palette(\"Reds\", 3),\n",
    "                cbar_kws={\"ticks\" : [0, 1, 2],\n",
    "                        \"orientation\" : \"horizontal\"},\n",
    "                figsize=(10, 10))\n",
    "\n",
    "    g.ax_cbar.set_position([0.40, 0.85, 0.3, 0.03])\n",
    "    g.ax_cbar.set_xticks([0.33, 1, 1.66])\n",
    "    g.ax_cbar.set_xticklabels([\"C\", \"5mC\", \"5hmC\"])\n",
    "    g.ax_cbar.set_title(\"Modification type\", fontdict={\"fontsize\" : 10})\n",
    "    g.ax_heatmap.set_ylabel(\"Read\")\n",
    "    g.ax_heatmap.set_xlabel(\"CpG position\")\n",
    "\n",
    "    return "
   ]
  },
  {
   "cell_type": "code",
   "execution_count": 12,
   "metadata": {},
   "outputs": [
    {
     "data": {
      "text/plain": [
       "<Figure size 640x480 with 0 Axes>"
      ]
     },
     "metadata": {},
     "output_type": "display_data"
    },
    {
     "data": {
      "text/plain": [
       "<Figure size 640x480 with 0 Axes>"
      ]
     },
     "metadata": {},
     "output_type": "display_data"
    },
    {
     "data": {
      "image/png": "[encoded data removed]",
      "text/plain": [
       "<Figure size 1000x1000 with 4 Axes>"
      ]
     },
     "metadata": {},
     "output_type": "display_data"
    }
   ],
   "source": [
    "# It's also possible to revise the coordinates of DMRs\n",
    "gene_df.loc[gene_df[\"geneName\"] == \"Dlk1-Gtl2\", [\"chromStart\", \"chromEnd\"]] = 109493708, 109495485\n",
    "gene_df.loc[gene_df[\"geneName\"] == \"Rasgrf1\", [\"chromStart\", \"chromEnd\"]] = 89761022, 89763924\n",
    "\n",
    "makeHeatmap(\"Dlk1-Gtl2\")\n",
    "plt.savefig(\"./plots/imprinted_genes/Dlk1-Gtl2_ALT_heatmap.png\")\n",
    "plt.close()\n",
    "makeHeatmap(\"Rasgrf1\")\n",
    "plt.savefig(\"./plots/imprinted_genes/Rasgrf1_ALT_heatmap.png\")"
   ]
  },
  {
   "cell_type": "code",
   "execution_count": 8,
   "metadata": {},
   "outputs": [
    {
     "name": "stdout",
     "output_type": "stream",
     "text": [
      "Making heatmap for Gnas1A\n",
      "Saved heatmap for Gnas1A\n",
      "Making heatmap for Nespas-Gnasxl\n",
      "Saved heatmap for Nespas-Gnasxl\n",
      "Making heatmap for Mest\n",
      "Saved heatmap for Mest\n",
      "Making heatmap for Dlk1-Gtl2\n",
      "Saved heatmap for Dlk1-Gtl2\n",
      "Making heatmap for Grb10\n",
      "Saved heatmap for Grb10\n",
      "Making heatmap for H19\n",
      "Saved heatmap for H19\n",
      "Making heatmap for Rasgrf1\n",
      "Saved heatmap for Rasgrf1\n",
      "Making heatmap for Peg3\n",
      "Saved heatmap for Peg3\n",
      "Making heatmap for Impact\n",
      "Saved heatmap for Impact\n",
      "Making heatmap for Zac1\n",
      "Saved heatmap for Zac1\n",
      "Making heatmap for Igf2r\n",
      "Saved heatmap for Igf2r\n",
      "Making heatmap for Kcnq1ot1\n",
      "Saved heatmap for Kcnq1ot1\n",
      "Making heatmap for U2af1-rs1\n",
      "Saved heatmap for U2af1-rs1\n",
      "Making heatmap for Peg10\n",
      "Saved heatmap for Peg10\n",
      "Making heatmap for Snrpn\n",
      "Saved heatmap for Snrpn\n"
     ]
    },
    {
     "data": {
      "text/plain": [
       "<Figure size 640x480 with 0 Axes>"
      ]
     },
     "metadata": {},
     "output_type": "display_data"
    },
    {
     "data": {
      "text/plain": [
       "<Figure size 640x480 with 0 Axes>"
      ]
     },
     "metadata": {},
     "output_type": "display_data"
    },
    {
     "data": {
      "text/plain": [
       "<Figure size 640x480 with 0 Axes>"
      ]
     },
     "metadata": {},
     "output_type": "display_data"
    },
    {
     "data": {
      "text/plain": [
       "<Figure size 640x480 with 0 Axes>"
      ]
     },
     "metadata": {},
     "output_type": "display_data"
    },
    {
     "data": {
      "text/plain": [
       "<Figure size 640x480 with 0 Axes>"
      ]
     },
     "metadata": {},
     "output_type": "display_data"
    },
    {
     "data": {
      "text/plain": [
       "<Figure size 640x480 with 0 Axes>"
      ]
     },
     "metadata": {},
     "output_type": "display_data"
    },
    {
     "data": {
      "text/plain": [
       "<Figure size 640x480 with 0 Axes>"
      ]
     },
     "metadata": {},
     "output_type": "display_data"
    },
    {
     "data": {
      "text/plain": [
       "<Figure size 640x480 with 0 Axes>"
      ]
     },
     "metadata": {},
     "output_type": "display_data"
    },
    {
     "data": {
      "text/plain": [
       "<Figure size 640x480 with 0 Axes>"
      ]
     },
     "metadata": {},
     "output_type": "display_data"
    },
    {
     "data": {
      "text/plain": [
       "<Figure size 640x480 with 0 Axes>"
      ]
     },
     "metadata": {},
     "output_type": "display_data"
    },
    {
     "data": {
      "text/plain": [
       "<Figure size 640x480 with 0 Axes>"
      ]
     },
     "metadata": {},
     "output_type": "display_data"
    },
    {
     "data": {
      "text/plain": [
       "<Figure size 640x480 with 0 Axes>"
      ]
     },
     "metadata": {},
     "output_type": "display_data"
    },
    {
     "data": {
      "text/plain": [
       "<Figure size 640x480 with 0 Axes>"
      ]
     },
     "metadata": {},
     "output_type": "display_data"
    },
    {
     "data": {
      "text/plain": [
       "<Figure size 640x480 with 0 Axes>"
      ]
     },
     "metadata": {},
     "output_type": "display_data"
    },
    {
     "data": {
      "text/plain": [
       "<Figure size 640x480 with 0 Axes>"
      ]
     },
     "metadata": {},
     "output_type": "display_data"
    }
   ],
   "source": [
    "for name in gene_df[\"geneName\"].value_counts().index:\n",
    "    print(\"Making heatmap for {gene_name}\".format(gene_name=name))\n",
    "    makeHeatmap(name)\n",
    "    plt.savefig(\"./plots/imprinted_genes/{gene_name}_heatmap.png\".format(gene_name=name))\n",
    "    plt.close()\n",
    "    print(\"Saved heatmap for {gene_name}\".format(gene_name=name))\n"
   ]
  }
 ],
 "metadata": {
  "kernelspec": {
   "display_name": "NanoporeEvaluationVenv",
   "language": "python",
   "name": "python3"
  },
  "language_info": {
   "codemirror_mode": {
    "name": "ipython",
    "version": 3
   },
   "file_extension": ".py",
   "mimetype": "text/x-python",
   "name": "python",
   "nbconvert_exporter": "python",
   "pygments_lexer": "ipython3",
   "version": "3.10.9"
  },
  "orig_nbformat": 4
 },
 "nbformat": 4,
 "nbformat_minor": 2
}

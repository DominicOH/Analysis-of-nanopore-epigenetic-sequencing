{
 "cells": [
  {
   "attachments": {},
   "cell_type": "markdown",
   "metadata": {},
   "source": [
    "# Figure 5: part 2\n",
    "\n",
    "In this script, 5hmC is studied from a bin-by-bin level. The genome is broken into bins of approximately 1kb. The average 5hmC% of these bins is used to produce genome-wide mean and then individual bins are compared against this to produce a log2 difference. This is done in a non-strand-specific manner. \n",
    "\n",
    "Having identified this, these bins will then be studied for feature content using pybedtools. Each bin effectively represents a region in a bed file, and can be intersected against another bed file containing feature elements. This will help to identify preferentiality between feature types for 5hmC. The null hypothesis posits that 5hmC is distributed randomly across bins, and is not preferentially associated with any particular gene feature.  "
   ]
  },
  {
   "cell_type": "code",
   "execution_count": 43,
   "metadata": {},
   "outputs": [],
   "source": [
    "from ProjectTools import OpenBeds\n",
    "from ProjectTools.OpenBeds import filterDepth\n",
    "\n",
    "dry = True\n",
    "\n",
    "if dry == True:\n",
    "    tab_bed_path = './test_data/CRR008807_TAB_merged.bedGraph.gz.bismark.zero.cov_sub.bed'\n",
    "    nano_3mod_path = './test_data/prom_R10.4.1_E8.2_WGS_brain_0.9.1_mods_sub.bed'\n",
    "    \n",
    "    nano_mc_df, nano_hmc_df = map(filterDepth, OpenBeds.get_nanopore_threeMod(nano_3mod_path))\n",
    "    del nano_mc_df\n",
    "    tab_df = filterDepth(OpenBeds.get_bismark(tab_bed_path, \"5hmC\"))\n",
    "\n",
    "else:\n",
    "    tab_bed_path = './data/TAB_data/CRR008807_TAB_merged.bedGraph.gz.bismark.zero.cov'\n",
    "    nano_3mod_path = './data/prom_R10.4.1_E8.2_WGS_brain_0.9.1_mods.bed'\n",
    "\n",
    "    nano_mc_df, nano_hmc_df = map(filterDepth, OpenBeds.get_nanopore_threeMod(nano_3mod_path))\n",
    "    del nano_mc_df\n",
    "    tab_df = filterDepth(OpenBeds.get_bismark(tab_bed_path, \"5hmC\"))"
   ]
  },
  {
   "cell_type": "code",
   "execution_count": 2,
   "metadata": {},
   "outputs": [],
   "source": [
    "import genomicranges as gr\n",
    "import pandas as pd\n",
    "import numpy as np \n",
    "\n",
    "def makeGenomicRange(df):\n",
    "    df[\"seqnames\"] = df[\"chromosome\"]\n",
    "    df[\"starts\"] = df[\"chromStart\"]\n",
    "    df[\"ends\"] = df[\"chromEnd\"]\n",
    "\n",
    "    df = df[[\"seqnames\", \"starts\", \"ends\", \"percentMeth\"]]\n",
    "\n",
    "    return gr.fromPandas(df)\n",
    "\n",
    "def averageByBin(genomic_range):\n",
    "    lengths = pd.read_csv('./feature_references/mm39.chrom.sizes', sep=\"\\t\", names=[\"lengths\"]).to_dict()\n",
    "    tiles = gr.tileGenome(lengths[\"lengths\"], width=1000)\n",
    "    return genomic_range.binnedAverage(\"percentMeth\", tiles, \"mean5hmC\")\n",
    "\n",
    "def modGRs():\n",
    "    nano_gr = makeGenomicRange(nano_hmc_df)\n",
    "    tab_gr = makeGenomicRange(tab_df)\n",
    "    return nano_gr, tab_gr\n",
    "\n",
    "def stripNaNs(df):\n",
    "    df = df.loc[np.isnan(df[\"mean5hmC\"]) != True]\n",
    "    return df\n",
    "\n",
    "def log2vMean(df):\n",
    "    genome_wide_mean = df[\"mean5hmC\"].mean()\n",
    "    value = np.log2(\n",
    "        np.divide(df[\"mean5hmC\"], genome_wide_mean))\n",
    "    return value\n",
    "\n",
    "def main():\n",
    "    nano_bin_avg, tab_bin_avg = map(averageByBin, modGRs())\n",
    "    nano_bin_df = nano_bin_avg.toPandas()\n",
    "    tab_bin_df = tab_bin_avg.toPandas()\n",
    "\n",
    "    nano_bin_df, tab_bin_df = map(stripNaNs, [nano_bin_df, tab_bin_df])\n",
    "    \n",
    "    nano_bin_df, tab_bin_df = map(log2vMean, [nano_bin_df, tab_bin_df])\n",
    "    \n",
    "    return nano_bin_df, tab_bin_df"
   ]
  },
  {
   "cell_type": "code",
   "execution_count": 47,
   "metadata": {},
   "outputs": [
    {
     "data": {
      "text/plain": [
       "0.625"
      ]
     },
     "execution_count": 47,
     "metadata": {},
     "output_type": "execute_result"
    }
   ],
   "source": [
    "tab_eg_avg[\"mean5hmC\"].min()\n",
    "tab_df.loc[(tab_df[\"chromStart\"] >= 3050001) & (tab_df[\"chromStart\"] <= 3051000), \"percentMeth\"].mean()"
   ]
  },
  {
   "cell_type": "code",
   "execution_count": 40,
   "metadata": {},
   "outputs": [
    {
     "data": {
      "text/html": [
       "<div>\n",
       "<style scoped>\n",
       "    .dataframe tbody tr th:only-of-type {\n",
       "        vertical-align: middle;\n",
       "    }\n",
       "\n",
       "    .dataframe tbody tr th {\n",
       "        vertical-align: top;\n",
       "    }\n",
       "\n",
       "    .dataframe thead th {\n",
       "        text-align: right;\n",
       "    }\n",
       "</style>\n",
       "<table border=\"1\" class=\"dataframe\">\n",
       "  <thead>\n",
       "    <tr style=\"text-align: right;\">\n",
       "      <th></th>\n",
       "      <th>seqnames</th>\n",
       "      <th>starts</th>\n",
       "      <th>ends</th>\n",
       "      <th>strand</th>\n",
       "      <th>mean5hmC</th>\n",
       "    </tr>\n",
       "  </thead>\n",
       "  <tbody>\n",
       "    <tr>\n",
       "      <th>3057</th>\n",
       "      <td>chr1</td>\n",
       "      <td>3057001</td>\n",
       "      <td>3058000</td>\n",
       "      <td>*</td>\n",
       "      <td>5.263158</td>\n",
       "    </tr>\n",
       "    <tr>\n",
       "      <th>3096</th>\n",
       "      <td>chr1</td>\n",
       "      <td>3096001</td>\n",
       "      <td>3097000</td>\n",
       "      <td>*</td>\n",
       "      <td>5.263158</td>\n",
       "    </tr>\n",
       "    <tr>\n",
       "      <th>3128</th>\n",
       "      <td>chr1</td>\n",
       "      <td>3128001</td>\n",
       "      <td>3129000</td>\n",
       "      <td>*</td>\n",
       "      <td>5.263158</td>\n",
       "    </tr>\n",
       "    <tr>\n",
       "      <th>3143</th>\n",
       "      <td>chr1</td>\n",
       "      <td>3143001</td>\n",
       "      <td>3144000</td>\n",
       "      <td>*</td>\n",
       "      <td>5.263158</td>\n",
       "    </tr>\n",
       "    <tr>\n",
       "      <th>3152</th>\n",
       "      <td>chr1</td>\n",
       "      <td>3152001</td>\n",
       "      <td>3153000</td>\n",
       "      <td>*</td>\n",
       "      <td>5.263158</td>\n",
       "    </tr>\n",
       "    <tr>\n",
       "      <th>...</th>\n",
       "      <td>...</td>\n",
       "      <td>...</td>\n",
       "      <td>...</td>\n",
       "      <td>...</td>\n",
       "      <td>...</td>\n",
       "    </tr>\n",
       "    <tr>\n",
       "      <th>71837</th>\n",
       "      <td>chr1</td>\n",
       "      <td>71837001</td>\n",
       "      <td>71838000</td>\n",
       "      <td>*</td>\n",
       "      <td>5.263158</td>\n",
       "    </tr>\n",
       "    <tr>\n",
       "      <th>71895</th>\n",
       "      <td>chr1</td>\n",
       "      <td>71895001</td>\n",
       "      <td>71896000</td>\n",
       "      <td>*</td>\n",
       "      <td>5.263158</td>\n",
       "    </tr>\n",
       "    <tr>\n",
       "      <th>71911</th>\n",
       "      <td>chr1</td>\n",
       "      <td>71911001</td>\n",
       "      <td>71912000</td>\n",
       "      <td>*</td>\n",
       "      <td>5.263158</td>\n",
       "    </tr>\n",
       "    <tr>\n",
       "      <th>72731</th>\n",
       "      <td>chr1</td>\n",
       "      <td>72731001</td>\n",
       "      <td>72732000</td>\n",
       "      <td>*</td>\n",
       "      <td>5.263158</td>\n",
       "    </tr>\n",
       "    <tr>\n",
       "      <th>72960</th>\n",
       "      <td>chr1</td>\n",
       "      <td>72960001</td>\n",
       "      <td>72961000</td>\n",
       "      <td>*</td>\n",
       "      <td>5.263158</td>\n",
       "    </tr>\n",
       "  </tbody>\n",
       "</table>\n",
       "<p>628 rows × 5 columns</p>\n",
       "</div>"
      ],
      "text/plain": [
       "      seqnames    starts      ends strand  mean5hmC\n",
       "3057      chr1   3057001   3058000      *  5.263158\n",
       "3096      chr1   3096001   3097000      *  5.263158\n",
       "3128      chr1   3128001   3129000      *  5.263158\n",
       "3143      chr1   3143001   3144000      *  5.263158\n",
       "3152      chr1   3152001   3153000      *  5.263158\n",
       "...        ...       ...       ...    ...       ...\n",
       "71837     chr1  71837001  71838000      *  5.263158\n",
       "71895     chr1  71895001  71896000      *  5.263158\n",
       "71911     chr1  71911001  71912000      *  5.263158\n",
       "72731     chr1  72731001  72732000      *  5.263158\n",
       "72960     chr1  72960001  72961000      *  5.263158\n",
       "\n",
       "[628 rows x 5 columns]"
      ]
     },
     "execution_count": 40,
     "metadata": {},
     "output_type": "execute_result"
    }
   ],
   "source": [
    "tab_eg_avg.loc[tab_eg_avg[\"mean5hmC\"] == tab_eg_avg[\"mean5hmC\"].min()]"
   ]
  },
  {
   "cell_type": "code",
   "execution_count": 30,
   "metadata": {},
   "outputs": [
    {
     "name": "stderr",
     "output_type": "stream",
     "text": [
      "/u/n/doh28/.conda/envs/NanoporeEvaluationVenv/lib/python3.10/site-packages/genomicranges/GenomicRanges.py:1346: FutureWarning: In a future version of pandas, a length 1 tuple will be returned when iterating over a groupby with a grouper equal to a list of length 1. Don't supply a list with a single grouper to avoid this warning.\n",
      "  for name, group in tgt_groups:\n",
      "/u/n/doh28/.conda/envs/NanoporeEvaluationVenv/lib/python3.10/site-packages/genomicranges/GenomicRanges.py:1373: RuntimeWarning: invalid value encountered in scalar divide\n",
      "  vec_mean = np.sum(vec) / np.count_nonzero(vec)\n"
     ]
    },
    {
     "data": {
      "text/plain": [
       "<Axes: >"
      ]
     },
     "execution_count": 30,
     "metadata": {},
     "output_type": "execute_result"
    },
    {
     "data": {
      "image/png": "[encoded data removed]",
      "text/plain": [
       "<Figure size 640x480 with 1 Axes>"
      ]
     },
     "metadata": {},
     "output_type": "display_data"
    }
   ],
   "source": [
    "tab_eg_gr = gr.fromPandas(tab_df)\n",
    "tab_eg_avg = averageByBin(tab_eg_gr)\n",
    "tab_eg_avg.toPandas()"
   ]
  },
  {
   "cell_type": "code",
   "execution_count": 36,
   "metadata": {},
   "outputs": [
    {
     "data": {
      "text/plain": [
       "16.11107275586534"
      ]
     },
     "execution_count": 36,
     "metadata": {},
     "output_type": "execute_result"
    }
   ],
   "source": [
    "tab_bin_df[\"mean5hmC\"].mean()"
   ]
  },
  {
   "cell_type": "code",
   "execution_count": 3,
   "metadata": {},
   "outputs": [
    {
     "name": "stderr",
     "output_type": "stream",
     "text": [
      "/u/n/doh28/.conda/envs/NanoporeEvaluationVenv/lib/python3.10/site-packages/genomicranges/GenomicRanges.py:1346: FutureWarning: In a future version of pandas, a length 1 tuple will be returned when iterating over a groupby with a grouper equal to a list of length 1. Don't supply a list with a single grouper to avoid this warning.\n",
      "  for name, group in tgt_groups:\n",
      "/u/n/doh28/.conda/envs/NanoporeEvaluationVenv/lib/python3.10/site-packages/genomicranges/GenomicRanges.py:1373: RuntimeWarning: invalid value encountered in scalar divide\n",
      "  vec_mean = np.sum(vec) / np.count_nonzero(vec)\n",
      "/u/n/doh28/.conda/envs/NanoporeEvaluationVenv/lib/python3.10/site-packages/genomicranges/GenomicRanges.py:1346: FutureWarning: In a future version of pandas, a length 1 tuple will be returned when iterating over a groupby with a grouper equal to a list of length 1. Don't supply a list with a single grouper to avoid this warning.\n",
      "  for name, group in tgt_groups:\n",
      "/u/n/doh28/.conda/envs/NanoporeEvaluationVenv/lib/python3.10/site-packages/genomicranges/GenomicRanges.py:1373: RuntimeWarning: invalid value encountered in scalar divide\n",
      "  vec_mean = np.sum(vec) / np.count_nonzero(vec)\n"
     ]
    }
   ],
   "source": [
    "nano_bin_df, tab_bin_df = main()"
   ]
  },
  {
   "cell_type": "code",
   "execution_count": 4,
   "metadata": {},
   "outputs": [],
   "source": [
    "def log2vMean(df):\n",
    "    genome_wide_mean = df[\"mean5hmC\"].mean()\n",
    "    value = np.log2(\n",
    "        np.divide(df[\"mean5hmC\"], genome_wide_mean))\n",
    "    return value\n",
    "\n",
    "nano_bin_df[\"log2FromMean\"], tab_bin_df[\"log2FromMean\"] = map(log2vMean, [nano_bin_df, tab_bin_df])\n",
    "all_bin_df = pd.merge(nano_bin_df, tab_bin_df, \"inner\", [\"seqnames\", \"starts\", \"ends\", \"strand\"], suffixes=[\"_Nanopore\", \"_TAB\"])"
   ]
  },
  {
   "cell_type": "code",
   "execution_count": 24,
   "metadata": {},
   "outputs": [
    {
     "data": {
      "text/plain": [
       "<Axes: >"
      ]
     },
     "execution_count": 24,
     "metadata": {},
     "output_type": "execute_result"
    },
    {
     "data": {
      "image/png": "[encoded data removed]",
      "text/plain": [
       "<Figure size 640x480 with 1 Axes>"
      ]
     },
     "metadata": {},
     "output_type": "display_data"
    }
   ],
   "source": [
    "all_bin_df[\"log2FromMean_Nanopore\"].hist()"
   ]
  },
  {
   "cell_type": "code",
   "execution_count": 22,
   "metadata": {},
   "outputs": [
    {
     "data": {
      "image/png": "[encoded data removed]",
      "text/plain": [
       "<Figure size 640x480 with 2 Axes>"
      ]
     },
     "metadata": {},
     "output_type": "display_data"
    }
   ],
   "source": [
    "import seaborn as sns\n",
    "import matplotlib.pyplot as plt\n",
    "\n",
    "sns.set_style(\"whitegrid\")\n",
    "\n",
    "fig = plt.figure()\n",
    "\n",
    "ax1 = fig.add_subplot()\n",
    "\n",
    "sns.histplot(all_bin_df, x= \"log2FromMean_Nanopore\", y=\"log2FromMean_TAB\", ax=ax1, cbar=True)\n",
    "ax1.set_title(\"Log$_{2}$ difference from mean\")\n",
    "\n",
    "fig.show()"
   ]
  }
 ],
 "metadata": {
  "kernelspec": {
   "display_name": "NanoporeEvaluationVenv",
   "language": "python",
   "name": "python3"
  },
  "language_info": {
   "codemirror_mode": {
    "name": "ipython",
    "version": 3
   },
   "file_extension": ".py",
   "mimetype": "text/x-python",
   "name": "python",
   "nbconvert_exporter": "python",
   "pygments_lexer": "ipython3",
   "version": "3.10.9"
  },
  "orig_nbformat": 4
 },
 "nbformat": 4,
 "nbformat_minor": 2
}
